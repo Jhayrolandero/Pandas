{
 "cells": [
  {
   "cell_type": "code",
   "execution_count": 15,
   "metadata": {},
   "outputs": [
    {
     "name": "stdout",
     "output_type": "stream",
     "text": [
      "<class 'pandas.core.frame.DataFrame'>\n",
      "RangeIndex: 420 entries, 0 to 419\n",
      "Data columns (total 81 columns):\n",
      " #   Column                              Non-Null Count  Dtype  \n",
      "---  ------                              --------------  -----  \n",
      " 0   Player                              420 non-null    object \n",
      " 1   Role                                420 non-null    object \n",
      " 2   Team                                420 non-null    object \n",
      " 3   Opponent_Team                       420 non-null    object \n",
      " 4   Opponent_Player                     420 non-null    object \n",
      " 5   Date                                420 non-null    object \n",
      " 6   Round                               420 non-null    object \n",
      " 7   Day                                 420 non-null    int64  \n",
      " 8   Patch                               420 non-null    object \n",
      " 9   Stage                               420 non-null    object \n",
      " 10  No_Game                             420 non-null    int64  \n",
      " 11  all_Games                           420 non-null    int64  \n",
      " 12  Format                              420 non-null    int64  \n",
      " 13  Game_of_day                         420 non-null    int64  \n",
      " 14  Side                                420 non-null    object \n",
      " 15  Time                                420 non-null    object \n",
      " 16  Ban                                 420 non-null    object \n",
      " 17  Ban_Opponent                        420 non-null    object \n",
      " 18  Pick                                420 non-null    object \n",
      " 19  Pick_Opponent                       420 non-null    object \n",
      " 20  Champion                            420 non-null    object \n",
      " 21  Champion_Opponent                   420 non-null    object \n",
      " 22  Outcome                             420 non-null    object \n",
      " 23  Kills_Team                          420 non-null    int64  \n",
      " 24  Turrets_Team                        420 non-null    int64  \n",
      " 25  Dragon_Team                         420 non-null    int64  \n",
      " 26  Baron_Team                          420 non-null    int64  \n",
      " 27  Level                               420 non-null    int64  \n",
      " 28  Kills                               420 non-null    int64  \n",
      " 29  Deaths                              420 non-null    int64  \n",
      " 30  Assists                             420 non-null    int64  \n",
      " 31  KDA                                 420 non-null    object \n",
      " 32  CS                                  420 non-null    int64  \n",
      " 33  CS in Team's Jungle                 420 non-null    int64  \n",
      " 34  CS in Enemy Jungle                  420 non-null    int64  \n",
      " 35  CSM                                 420 non-null    float64\n",
      " 36  Golds                               420 non-null    int64  \n",
      " 37  GPM                                 420 non-null    int64  \n",
      " 38  GOLD%                               420 non-null    float64\n",
      " 39  Vision Score                        420 non-null    int64  \n",
      " 40  Wards placed                        420 non-null    int64  \n",
      " 41  Wards destroyed                     420 non-null    int64  \n",
      " 42  Control Wards Purchased             420 non-null    int64  \n",
      " 43  Detector Wards Placed               420 non-null    int64  \n",
      " 44  VSPM                                420 non-null    float64\n",
      " 45  WPM                                 420 non-null    float64\n",
      " 46  VWPM                                420 non-null    float64\n",
      " 47  WCPM                                420 non-null    float64\n",
      " 48  VS%                                 420 non-null    float64\n",
      " 49  Total damage to Champion            420 non-null    int64  \n",
      " 50  Physical Damage                     420 non-null    int64  \n",
      " 51  Magic Damage                        420 non-null    int64  \n",
      " 52  True Damage                         420 non-null    int64  \n",
      " 53  DPM                                 420 non-null    int64  \n",
      " 54  DMG%                                420 non-null    float64\n",
      " 55  K+A Per Minute                      420 non-null    float64\n",
      " 56  KP%                                 420 non-null    float64\n",
      " 57  Solo kills                          420 non-null    int64  \n",
      " 58  Double kills                        420 non-null    int64  \n",
      " 59  Triple kills                        420 non-null    int64  \n",
      " 60  Quadra kills                        420 non-null    int64  \n",
      " 61  Penta kills                         420 non-null    int64  \n",
      " 62  GD@15                               420 non-null    int64  \n",
      " 63  CSD@15                              420 non-null    int64  \n",
      " 64  XPD@15                              420 non-null    int64  \n",
      " 65  LVLD@15                             420 non-null    int64  \n",
      " 66  Objectives Stolen                   420 non-null    int64  \n",
      " 67  Damage dealt to turrets             420 non-null    int64  \n",
      " 68  Damage dealt to buildings           420 non-null    int64  \n",
      " 69  Total heal                          420 non-null    int64  \n",
      " 70  Total Heals On Teammates            420 non-null    int64  \n",
      " 71  Damage self mitigated               420 non-null    int64  \n",
      " 72  Total Damage Shielded On Teammates  420 non-null    int64  \n",
      " 73  Time ccing others                   420 non-null    int64  \n",
      " 74  Total Time CC Dealt                 420 non-null    int64  \n",
      " 75  Total damage taken                  420 non-null    int64  \n",
      " 76  Total Time Spent Dead               420 non-null    int64  \n",
      " 77  Consumables purchased               420 non-null    int64  \n",
      " 78  Items Purchased                     420 non-null    int64  \n",
      " 79  Shutdown bounty collected           420 non-null    int64  \n",
      " 80  Shutdown bounty lost                420 non-null    int64  \n",
      "dtypes: float64(10), int64(52), object(19)\n",
      "memory usage: 265.9+ KB\n"
     ]
    }
   ],
   "source": [
    "import matplotlib.pyplot as plt\n",
    "import numpy as np\n",
    "import pandas as pd\n",
    "\n",
    "# x = np.arange(0, 5, 0.1)\n",
    "# y = np.sin(x)\n",
    "\n",
    "df = pd.read_csv(\"./datasets/LEC_SummerPlayoffs_2024.csv\")\n",
    "# plt.plot(x, y)\n",
    "\n",
    "df.info()\n",
    "# df"
   ]
  },
  {
   "cell_type": "code",
   "execution_count": 23,
   "metadata": {},
   "outputs": [
    {
     "data": {
      "text/plain": [
       "[<matplotlib.lines.Line2D at 0x7f5cde1e1f70>]"
      ]
     },
     "execution_count": 23,
     "metadata": {},
     "output_type": "execute_result"
    },
    {
     "data": {
      "image/png": "[encoded data removed]",
      "text/plain": [
       "<Figure size 640x480 with 1 Axes>"
      ]
     },
     "metadata": {},
     "output_type": "display_data"
    }
   ],
   "source": [
    "# df.groupby(['Role'])\n",
    "dfGolds = df['Golds'].sort_values()\n",
    "dfCS = df['CS'].sort_values()\n",
    "plt.plot(dfGolds, dfCS)\n",
    "\n",
    "\n",
    "dfPlot = df['Date']\n",
    "dfPlot = df['Date']\n",
    "# dfGolds"
   ]
  }
 ],
 "metadata": {
  "kernelspec": {
   "display_name": "env",
   "language": "python",
   "name": "python3"
  },
  "language_info": {
   "codemirror_mode": {
    "name": "ipython",
    "version": 3
   },
   "file_extension": ".py",
   "mimetype": "text/x-python",
   "name": "python",
   "nbconvert_exporter": "python",
   "pygments_lexer": "ipython3",
   "version": "3.12.3"
  }
 },
 "nbformat": 4,
 "nbformat_minor": 2
}
